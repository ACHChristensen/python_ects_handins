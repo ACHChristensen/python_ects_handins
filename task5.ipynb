{
 "cells": [
  {
   "cell_type": "code",
   "execution_count": null,
   "metadata": {},
   "outputs": [],
   "source": [
    "#Opgave 5 : Lav en metode der optegner alle monumenter på kortet ved brug af plotting\n",
    "\n",
    "'''Denne viser alle monumenter på kort ved brug af plotting'''\n",
    "import task3a"
   ]
  }
 ],
 "metadata": {
  "language_info": {
   "name": "python"
  },
  "orig_nbformat": 4
 },
 "nbformat": 4,
 "nbformat_minor": 2
}
