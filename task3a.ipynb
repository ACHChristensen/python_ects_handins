{
 "cells": [
  {
   "cell_type": "code",
   "execution_count": null,
   "metadata": {},
   "outputs": [],
   "source": [
    "#Opgave 3.a : Vis monumentet som bliver returneret i metoden, på et kort over københavn ved brug af plotting:\n",
    "\n",
    "import task3\n",
    "\n",
    "'''Denne viser plotting af et monument på et kort over kbh ved brug af plotting'''\n",
    "def plotting_by_cooridinates(monument_name = None, monument_id = None):\n",
    "    cooridinates = task3.cooridinates_of_monument(name = monument_name, id = monument_id)\n",
    "    \n",
    "\n"
   ]
  }
 ],
 "metadata": {
  "language_info": {
   "name": "python"
  },
  "orig_nbformat": 4
 },
 "nbformat": 4,
 "nbformat_minor": 2
}
